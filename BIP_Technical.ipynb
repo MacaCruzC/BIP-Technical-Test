{
  "nbformat": 4,
  "nbformat_minor": 0,
  "metadata": {
    "colab": {
      "name": "BIP Technical.ipynb",
      "provenance": []
    },
    "kernelspec": {
      "name": "python3",
      "display_name": "Python 3"
    },
    "language_info": {
      "name": "python"
    }
  },
  "cells": [
    {
      "cell_type": "code",
      "execution_count": 66,
      "metadata": {
        "id": "UOfK2HRh_dOv"
      },
      "outputs": [],
      "source": [
        "import numpy as np\n",
        "import pandas as pd"
      ]
    },
    {
      "cell_type": "markdown",
      "source": [
        "# Brute Force Algorithm"
      ],
      "metadata": {
        "id": "T95SbDrTWGoE"
      }
    },
    {
      "cell_type": "markdown",
      "source": [
        "To find the maximum sum of a contiguous subarray the naive approach is to try to sum every combinations of subarrays that exists in the array. *However this algorithm has a $O(n^3)$ complexity*"
      ],
      "metadata": {
        "id": "i-dz9I_lXIBG"
      }
    },
    {
      "cell_type": "code",
      "source": [
        "def max_subarray(n):\n",
        "  \"\"\"\n",
        "  max_subarray returns the maximum sum of a contiguous subarray in array n\n",
        "\n",
        "  Parameters:\n",
        "  n : input array\n",
        "  :return: tuple(maximum sum, contiguos subarray)\n",
        "\n",
        "  \"\"\"\n",
        "  if isinstance(n,(list,np.ndarray)) != True:\n",
        "    raise Exception('Please enter a list or an array')\n",
        "\n",
        "  else:\n",
        "\n",
        "    max_sum = float('-inf')\n",
        "    max_array = None\n",
        "\n",
        "    for i in range(len(n)):\n",
        "      for j in range(i+1,len(n)+1):\n",
        "        if sum(n[i:j]) > max_sum:\n",
        "          max_sum = sum(n[i:j])\n",
        "          max_array = n[i:j]\n",
        "    \n",
        "    return (max_sum,max_array)\n"
      ],
      "metadata": {
        "id": "m6C9_Hu9ErCg"
      },
      "execution_count": 157,
      "outputs": []
    },
    {
      "cell_type": "markdown",
      "source": [
        "# Kadane’s Algorithm\n",
        "\n",
        "Kadane´s Algorithm is the dynamic programming algorithm proposed to solve this particular problem. The time complexity of this algorithm is O(n), which makes it of linear complexity."
      ],
      "metadata": {
        "id": "IO5z1wibbyK8"
      }
    },
    {
      "cell_type": "code",
      "source": [
        "def kadanes(n):\n",
        "  \"\"\"\n",
        "  function kadanes applies the Kadane´s algorithm to find the maximum sum of a contiguous subarray in array n\n",
        "\n",
        "  Parameters:\n",
        "  n : input array\n",
        "  :return: tuple(maximum sum, contiguos subarray)\n",
        "\n",
        "  \"\"\"\n",
        "  if isinstance(n,(list,np.ndarray)) != True:\n",
        "    raise Exception(\"Please enter a list or an array\")\n",
        "  \n",
        "  else:\n",
        "    global_max = n[0]\n",
        "    max_ending = n[0]\n",
        "    starting_point = 0\n",
        "    ending_point = 0\n",
        "\n",
        "    for i in range(1,len(n)):\n",
        "\n",
        "      if max_ending + n[i] > n[i]:\n",
        "        max_ending = max_ending +n[i]\n",
        "      else:\n",
        "        max_ending = n[i]\n",
        "        starting_point = i\n",
        "\n",
        "      if max_ending >global_max:\n",
        "        global_max = max_ending\n",
        "        ending_point = i\n",
        "      else:\n",
        "        pass\n",
        "        \n",
        "  return (global_max,n[starting_point:ending_point+1])"
      ],
      "metadata": {
        "id": "6btKI1bFeqez"
      },
      "execution_count": 154,
      "outputs": []
    },
    {
      "cell_type": "markdown",
      "source": [
        "# Unit Test"
      ],
      "metadata": {
        "id": "5BhYW6hPr7OY"
      }
    },
    {
      "cell_type": "code",
      "source": [
        "import unittest\n",
        "\n",
        "class TestAlgorithms(unittest.TestCase):\n",
        "    def test_bruteforce_success(self):\n",
        "      actual = max_subarray(n=[354,5,67,-2,4,-400])\n",
        "      expected = (428, [354, 5, 67, -2,4])\n",
        "      self.assertEqual(actual, expected)\n",
        "    \n",
        "    def test_bruteforce_fail(self):\n",
        "      array = 'string'\n",
        "      with self.assertRaises(Exception) as exception_context:\n",
        "        max_subarray(n=array)\n",
        "      self.assertEqual(\n",
        "          str(exception_context.exception),\n",
        "          'Please enter a list or an array')\n",
        "    \n",
        "    def test_kadanes(self):\n",
        "      actual = max_subarray(n=[2,10,-20,100,-400])\n",
        "      expected = (100, [100])\n",
        "      self.assertEqual(actual, expected)\n",
        "\n",
        "    def test_kadanes_fail(self):\n",
        "      array = 'string'\n",
        "      with self.assertRaises(Exception) as exception_context:\n",
        "        max_subarray(n=array)\n",
        "      self.assertEqual(\n",
        "          str(exception_context.exception),\n",
        "          'Please enter a list or an array')\n",
        "\n",
        "unittest.main(argv=[''], verbosity=2, exit=False)"
      ],
      "metadata": {
        "colab": {
          "base_uri": "https://localhost:8080/"
        },
        "id": "nUIc61_Dr69V",
        "outputId": "ba6225a4-b9ff-4cb2-e61b-3181f1f76cba"
      },
      "execution_count": 163,
      "outputs": [
        {
          "output_type": "stream",
          "name": "stderr",
          "text": [
            "test_bruteforce_fail (__main__.TestAlgorithms) ... ok\n",
            "test_bruteforce_success (__main__.TestAlgorithms) ... ok\n",
            "test_kadanes (__main__.TestAlgorithms) ... ok\n",
            "test_kadanes_fail (__main__.TestAlgorithms) ... ok\n",
            "\n",
            "----------------------------------------------------------------------\n",
            "Ran 4 tests in 0.014s\n",
            "\n",
            "OK\n"
          ]
        },
        {
          "output_type": "execute_result",
          "data": {
            "text/plain": [
              "<unittest.main.TestProgram at 0x7f0ef8fb0c10>"
            ]
          },
          "metadata": {},
          "execution_count": 163
        }
      ]
    }
  ]
}